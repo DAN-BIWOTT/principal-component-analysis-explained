{
 "cells": [
  {
   "cell_type": "markdown",
   "metadata": {},
   "source": [
    "**I'll explain the steps involved in conmponent analysis and use breast cancer data set to achieve this.**"
   ]
  },
  {
   "cell_type": "markdown",
   "metadata": {},
   "source": [
    "# 1)I'll first import all the necessary libraries"
   ]
  },
  {
   "cell_type": "code",
   "execution_count": 1,
   "metadata": {},
   "outputs": [],
   "source": [
    "import numpy as np # linear algebra\n",
    "import pandas as pd # data processing, CSV file I/O (e.g. pd.read_csv)\n",
    "import matplotlib as mpl\n",
    "import matplotlib.pyplot as plt\n",
    "import seaborn as sns\n",
    "%matplotlib inline"
   ]
  },
  {
   "cell_type": "markdown",
   "metadata": {},
   "source": [
    "# 2)Loading the dataset\n",
    "To import the dataset we will use Pandas library.It is the best Python library to play with the dataset and has a lot of functionalities. "
   ]
  },
  {
   "cell_type": "code",
   "execution_count": 2,
   "metadata": {},
   "outputs": [],
   "source": [
    "df = pd.read_csv('cancer.csv')"
   ]
  },
  {
   "cell_type": "code",
   "execution_count": 3,
   "metadata": {},
   "outputs": [
    {
     "name": "stdout",
     "output_type": "stream",
     "text": [
      "Columns names:\n",
      "['Risk_Level', 'last_evaluation', 'tumor_size', 'irradiat', 'tiinv-nodes', 'deg-malig', 'left', 'node-caps', 'breast-quad', 'state']\n"
     ]
    }
   ],
   "source": [
    "columns_names=df.columns.tolist()\n",
    "print(\"Columns names:\")\n",
    "print(columns_names)"
   ]
  },
  {
   "cell_type": "markdown",
   "metadata": {},
   "source": [
    "df.columns.tolist() fetches all the columns and then convert it into list type.This step is just to check out all the column names in our data.Columns are also called as features of our datasets."
   ]
  },
  {
   "cell_type": "code",
   "execution_count": 4,
   "metadata": {},
   "outputs": [
    {
     "data": {
      "text/html": [
       "<div>\n",
       "<style scoped>\n",
       "    .dataframe tbody tr th:only-of-type {\n",
       "        vertical-align: middle;\n",
       "    }\n",
       "\n",
       "    .dataframe tbody tr th {\n",
       "        vertical-align: top;\n",
       "    }\n",
       "\n",
       "    .dataframe thead th {\n",
       "        text-align: right;\n",
       "    }\n",
       "</style>\n",
       "<table border=\"1\" class=\"dataframe\">\n",
       "  <thead>\n",
       "    <tr style=\"text-align: right;\">\n",
       "      <th></th>\n",
       "      <th>Risk_Level</th>\n",
       "      <th>last_evaluation</th>\n",
       "      <th>tumor_size</th>\n",
       "      <th>irradiat</th>\n",
       "      <th>tiinv-nodes</th>\n",
       "      <th>deg-malig</th>\n",
       "      <th>left</th>\n",
       "      <th>node-caps</th>\n",
       "      <th>breast-quad</th>\n",
       "      <th>state</th>\n",
       "    </tr>\n",
       "  </thead>\n",
       "  <tbody>\n",
       "    <tr>\n",
       "      <th>0</th>\n",
       "      <td>0.38</td>\n",
       "      <td>0.53</td>\n",
       "      <td>2</td>\n",
       "      <td>157</td>\n",
       "      <td>3</td>\n",
       "      <td>0</td>\n",
       "      <td>1</td>\n",
       "      <td>0</td>\n",
       "      <td>left_up</td>\n",
       "      <td>low</td>\n",
       "    </tr>\n",
       "    <tr>\n",
       "      <th>1</th>\n",
       "      <td>0.80</td>\n",
       "      <td>0.86</td>\n",
       "      <td>5</td>\n",
       "      <td>262</td>\n",
       "      <td>6</td>\n",
       "      <td>0</td>\n",
       "      <td>1</td>\n",
       "      <td>0</td>\n",
       "      <td>central</td>\n",
       "      <td>medium</td>\n",
       "    </tr>\n",
       "    <tr>\n",
       "      <th>2</th>\n",
       "      <td>0.11</td>\n",
       "      <td>0.88</td>\n",
       "      <td>7</td>\n",
       "      <td>272</td>\n",
       "      <td>4</td>\n",
       "      <td>0</td>\n",
       "      <td>1</td>\n",
       "      <td>0</td>\n",
       "      <td>left_low</td>\n",
       "      <td>medium</td>\n",
       "    </tr>\n",
       "    <tr>\n",
       "      <th>3</th>\n",
       "      <td>0.72</td>\n",
       "      <td>0.87</td>\n",
       "      <td>5</td>\n",
       "      <td>223</td>\n",
       "      <td>5</td>\n",
       "      <td>0</td>\n",
       "      <td>1</td>\n",
       "      <td>0</td>\n",
       "      <td>left_low</td>\n",
       "      <td>low</td>\n",
       "    </tr>\n",
       "    <tr>\n",
       "      <th>4</th>\n",
       "      <td>0.37</td>\n",
       "      <td>0.52</td>\n",
       "      <td>2</td>\n",
       "      <td>159</td>\n",
       "      <td>3</td>\n",
       "      <td>0</td>\n",
       "      <td>1</td>\n",
       "      <td>0</td>\n",
       "      <td>right_up</td>\n",
       "      <td>low</td>\n",
       "    </tr>\n",
       "  </tbody>\n",
       "</table>\n",
       "</div>"
      ],
      "text/plain": [
       "   Risk_Level  last_evaluation  tumor_size  irradiat  tiinv-nodes  deg-malig  \\\n",
       "0        0.38             0.53           2       157            3          0   \n",
       "1        0.80             0.86           5       262            6          0   \n",
       "2        0.11             0.88           7       272            4          0   \n",
       "3        0.72             0.87           5       223            5          0   \n",
       "4        0.37             0.52           2       159            3          0   \n",
       "\n",
       "   left  node-caps breast-quad   state  \n",
       "0     1          0     left_up     low  \n",
       "1     1          0     central  medium  \n",
       "2     1          0    left_low  medium  \n",
       "3     1          0    left_low     low  \n",
       "4     1          0    right_up     low  "
      ]
     },
     "execution_count": 4,
     "metadata": {},
     "output_type": "execute_result"
    }
   ],
   "source": [
    "df.head()"
   ]
  },
  {
   "cell_type": "markdown",
   "metadata": {},
   "source": [
    "df.head() displays first five rows of our datasets."
   ]
  },
  {
   "cell_type": "code",
   "execution_count": 5,
   "metadata": {},
   "outputs": [
    {
     "data": {
      "text/html": [
       "<div>\n",
       "<style scoped>\n",
       "    .dataframe tbody tr th:only-of-type {\n",
       "        vertical-align: middle;\n",
       "    }\n",
       "\n",
       "    .dataframe tbody tr th {\n",
       "        vertical-align: top;\n",
       "    }\n",
       "\n",
       "    .dataframe thead th {\n",
       "        text-align: right;\n",
       "    }\n",
       "</style>\n",
       "<table border=\"1\" class=\"dataframe\">\n",
       "  <thead>\n",
       "    <tr style=\"text-align: right;\">\n",
       "      <th></th>\n",
       "      <th>Risk_Level</th>\n",
       "      <th>last_evaluation</th>\n",
       "      <th>tumor_size</th>\n",
       "      <th>irradiat</th>\n",
       "      <th>tiinv-nodes</th>\n",
       "      <th>deg-malig</th>\n",
       "      <th>left</th>\n",
       "      <th>node-caps</th>\n",
       "    </tr>\n",
       "  </thead>\n",
       "  <tbody>\n",
       "    <tr>\n",
       "      <th>Risk_Level</th>\n",
       "      <td>1.000000</td>\n",
       "      <td>0.105021</td>\n",
       "      <td>-0.142970</td>\n",
       "      <td>-0.020048</td>\n",
       "      <td>-0.100866</td>\n",
       "      <td>0.058697</td>\n",
       "      <td>-0.388375</td>\n",
       "      <td>0.025605</td>\n",
       "    </tr>\n",
       "    <tr>\n",
       "      <th>last_evaluation</th>\n",
       "      <td>0.105021</td>\n",
       "      <td>1.000000</td>\n",
       "      <td>0.349333</td>\n",
       "      <td>0.339742</td>\n",
       "      <td>0.131591</td>\n",
       "      <td>-0.007104</td>\n",
       "      <td>0.006567</td>\n",
       "      <td>-0.008684</td>\n",
       "    </tr>\n",
       "    <tr>\n",
       "      <th>tumor_size</th>\n",
       "      <td>-0.142970</td>\n",
       "      <td>0.349333</td>\n",
       "      <td>1.000000</td>\n",
       "      <td>0.417211</td>\n",
       "      <td>0.196786</td>\n",
       "      <td>-0.004741</td>\n",
       "      <td>0.023787</td>\n",
       "      <td>-0.006064</td>\n",
       "    </tr>\n",
       "    <tr>\n",
       "      <th>irradiat</th>\n",
       "      <td>-0.020048</td>\n",
       "      <td>0.339742</td>\n",
       "      <td>0.417211</td>\n",
       "      <td>1.000000</td>\n",
       "      <td>0.127755</td>\n",
       "      <td>-0.010143</td>\n",
       "      <td>0.071287</td>\n",
       "      <td>-0.003544</td>\n",
       "    </tr>\n",
       "    <tr>\n",
       "      <th>tiinv-nodes</th>\n",
       "      <td>-0.100866</td>\n",
       "      <td>0.131591</td>\n",
       "      <td>0.196786</td>\n",
       "      <td>0.127755</td>\n",
       "      <td>1.000000</td>\n",
       "      <td>0.002120</td>\n",
       "      <td>0.144822</td>\n",
       "      <td>0.067433</td>\n",
       "    </tr>\n",
       "    <tr>\n",
       "      <th>deg-malig</th>\n",
       "      <td>0.058697</td>\n",
       "      <td>-0.007104</td>\n",
       "      <td>-0.004741</td>\n",
       "      <td>-0.010143</td>\n",
       "      <td>0.002120</td>\n",
       "      <td>1.000000</td>\n",
       "      <td>-0.154622</td>\n",
       "      <td>0.039245</td>\n",
       "    </tr>\n",
       "    <tr>\n",
       "      <th>left</th>\n",
       "      <td>-0.388375</td>\n",
       "      <td>0.006567</td>\n",
       "      <td>0.023787</td>\n",
       "      <td>0.071287</td>\n",
       "      <td>0.144822</td>\n",
       "      <td>-0.154622</td>\n",
       "      <td>1.000000</td>\n",
       "      <td>-0.061788</td>\n",
       "    </tr>\n",
       "    <tr>\n",
       "      <th>node-caps</th>\n",
       "      <td>0.025605</td>\n",
       "      <td>-0.008684</td>\n",
       "      <td>-0.006064</td>\n",
       "      <td>-0.003544</td>\n",
       "      <td>0.067433</td>\n",
       "      <td>0.039245</td>\n",
       "      <td>-0.061788</td>\n",
       "      <td>1.000000</td>\n",
       "    </tr>\n",
       "  </tbody>\n",
       "</table>\n",
       "</div>"
      ],
      "text/plain": [
       "                 Risk_Level  last_evaluation  tumor_size  irradiat  \\\n",
       "Risk_Level         1.000000         0.105021   -0.142970 -0.020048   \n",
       "last_evaluation    0.105021         1.000000    0.349333  0.339742   \n",
       "tumor_size        -0.142970         0.349333    1.000000  0.417211   \n",
       "irradiat          -0.020048         0.339742    0.417211  1.000000   \n",
       "tiinv-nodes       -0.100866         0.131591    0.196786  0.127755   \n",
       "deg-malig          0.058697        -0.007104   -0.004741 -0.010143   \n",
       "left              -0.388375         0.006567    0.023787  0.071287   \n",
       "node-caps          0.025605        -0.008684   -0.006064 -0.003544   \n",
       "\n",
       "                 tiinv-nodes  deg-malig      left  node-caps  \n",
       "Risk_Level         -0.100866   0.058697 -0.388375   0.025605  \n",
       "last_evaluation     0.131591  -0.007104  0.006567  -0.008684  \n",
       "tumor_size          0.196786  -0.004741  0.023787  -0.006064  \n",
       "irradiat            0.127755  -0.010143  0.071287  -0.003544  \n",
       "tiinv-nodes         1.000000   0.002120  0.144822   0.067433  \n",
       "deg-malig           0.002120   1.000000 -0.154622   0.039245  \n",
       "left                0.144822  -0.154622  1.000000  -0.061788  \n",
       "node-caps           0.067433   0.039245 -0.061788   1.000000  "
      ]
     },
     "execution_count": 5,
     "metadata": {},
     "output_type": "execute_result"
    }
   ],
   "source": [
    "df.corr()"
   ]
  },
  {
   "cell_type": "markdown",
   "metadata": {},
   "source": [
    "**df.corr()** compute pairwise correlation of columns.Correlation shows how the two variables are related to each other.Positive values shows as one variable increases other variable increases as well. Negative values shows as one variable increases other variable decreases.Bigger the values,more strongly two varibles are correlated and viceversa."
   ]
  },
  {
   "cell_type": "markdown",
   "metadata": {},
   "source": [
    "**Visualising correlation using Seaborn library**"
   ]
  },
  {
   "cell_type": "code",
   "execution_count": 6,
   "metadata": {},
   "outputs": [
    {
     "data": {
      "text/plain": [
       "Text(0.5, 1.0, 'Correlation between different fearures')"
      ]
     },
     "execution_count": 6,
     "metadata": {},
     "output_type": "execute_result"
    },
    {
     "data": {
      "image/png": "[encoded data removed]",
      "text/plain": [
       "<Figure size 720x720 with 2 Axes>"
      ]
     },
     "metadata": {
      "needs_background": "light"
     },
     "output_type": "display_data"
    }
   ],
   "source": [
    "correlation = df.corr()\n",
    "plt.figure(figsize=(10,10))\n",
    "sns.heatmap(correlation, vmax=1, square=True,annot=True,cmap='cubehelix')\n",
    "\n",
    "plt.title('Correlation between different fearures')"
   ]
  },
  {
   "cell_type": "markdown",
   "metadata": {},
   "source": [
    "**Doing some visualisation before moving onto PCA**"
   ]
  },
  {
   "cell_type": "code",
   "execution_count": 7,
   "metadata": {},
   "outputs": [
    {
     "data": {
      "text/plain": [
       "array(['left_up', 'central', 'left_low', 'right_up', 'right_low', nan,\n",
       "       'left_top', 'right_top'], dtype=object)"
      ]
     },
     "execution_count": 7,
     "metadata": {},
     "output_type": "execute_result"
    }
   ],
   "source": [
    "df['breast-quad'].unique()"
   ]
  },
  {
   "cell_type": "markdown",
   "metadata": {},
   "source": [
    "Here we are printing all the unique values in **breast-quad** columns"
   ]
  },
  {
   "cell_type": "code",
   "execution_count": 8,
   "metadata": {
    "scrolled": true
   },
   "outputs": [
    {
     "data": {
      "text/html": [
       "<div>\n",
       "<style scoped>\n",
       "    .dataframe tbody tr th:only-of-type {\n",
       "        vertical-align: middle;\n",
       "    }\n",
       "\n",
       "    .dataframe tbody tr th {\n",
       "        vertical-align: top;\n",
       "    }\n",
       "\n",
       "    .dataframe thead th {\n",
       "        text-align: right;\n",
       "    }\n",
       "</style>\n",
       "<table border=\"1\" class=\"dataframe\">\n",
       "  <thead>\n",
       "    <tr style=\"text-align: right;\">\n",
       "      <th></th>\n",
       "      <th>Risk_Level</th>\n",
       "      <th>last_evaluation</th>\n",
       "      <th>tumor_size</th>\n",
       "      <th>irradiat</th>\n",
       "      <th>tiinv-nodes</th>\n",
       "      <th>deg-malig</th>\n",
       "      <th>left</th>\n",
       "      <th>node-caps</th>\n",
       "    </tr>\n",
       "    <tr>\n",
       "      <th>breast-quad</th>\n",
       "      <th></th>\n",
       "      <th></th>\n",
       "      <th></th>\n",
       "      <th></th>\n",
       "      <th></th>\n",
       "      <th></th>\n",
       "      <th></th>\n",
       "      <th></th>\n",
       "    </tr>\n",
       "  </thead>\n",
       "  <tbody>\n",
       "    <tr>\n",
       "      <th>central</th>\n",
       "      <td>1045.68</td>\n",
       "      <td>1211.90</td>\n",
       "      <td>6314</td>\n",
       "      <td>339262</td>\n",
       "      <td>5821</td>\n",
       "      <td>255</td>\n",
       "      <td>425</td>\n",
       "      <td>40</td>\n",
       "    </tr>\n",
       "    <tr>\n",
       "      <th>left_low</th>\n",
       "      <td>1009.18</td>\n",
       "      <td>1178.24</td>\n",
       "      <td>6273</td>\n",
       "      <td>330468</td>\n",
       "      <td>5693</td>\n",
       "      <td>238</td>\n",
       "      <td>348</td>\n",
       "      <td>43</td>\n",
       "    </tr>\n",
       "    <tr>\n",
       "      <th>left_top</th>\n",
       "      <td>5106.72</td>\n",
       "      <td>5929.22</td>\n",
       "      <td>31572</td>\n",
       "      <td>1666622</td>\n",
       "      <td>29124</td>\n",
       "      <td>1194</td>\n",
       "      <td>1837</td>\n",
       "      <td>144</td>\n",
       "    </tr>\n",
       "    <tr>\n",
       "      <th>left_up</th>\n",
       "      <td>1176.32</td>\n",
       "      <td>1374.37</td>\n",
       "      <td>7316</td>\n",
       "      <td>381626</td>\n",
       "      <td>6711</td>\n",
       "      <td>299</td>\n",
       "      <td>406</td>\n",
       "      <td>51</td>\n",
       "    </tr>\n",
       "    <tr>\n",
       "      <th>right_low</th>\n",
       "      <td>226.80</td>\n",
       "      <td>255.78</td>\n",
       "      <td>1350</td>\n",
       "      <td>73401</td>\n",
       "      <td>1207</td>\n",
       "      <td>51</td>\n",
       "      <td>75</td>\n",
       "      <td>10</td>\n",
       "    </tr>\n",
       "    <tr>\n",
       "      <th>right_top</th>\n",
       "      <td>147.17</td>\n",
       "      <td>241.26</td>\n",
       "      <td>1293</td>\n",
       "      <td>69404</td>\n",
       "      <td>1296</td>\n",
       "      <td>18</td>\n",
       "      <td>321</td>\n",
       "      <td>0</td>\n",
       "    </tr>\n",
       "    <tr>\n",
       "      <th>right_up</th>\n",
       "      <td>470.47</td>\n",
       "      <td>538.67</td>\n",
       "      <td>2859</td>\n",
       "      <td>151317</td>\n",
       "      <td>2567</td>\n",
       "      <td>112</td>\n",
       "      <td>156</td>\n",
       "      <td>31</td>\n",
       "    </tr>\n",
       "  </tbody>\n",
       "</table>\n",
       "</div>"
      ],
      "text/plain": [
       "             Risk_Level  last_evaluation  tumor_size  irradiat  tiinv-nodes  \\\n",
       "breast-quad                                                                   \n",
       "central         1045.68          1211.90        6314    339262         5821   \n",
       "left_low        1009.18          1178.24        6273    330468         5693   \n",
       "left_top        5106.72          5929.22       31572   1666622        29124   \n",
       "left_up         1176.32          1374.37        7316    381626         6711   \n",
       "right_low        226.80           255.78        1350     73401         1207   \n",
       "right_top        147.17           241.26        1293     69404         1296   \n",
       "right_up         470.47           538.67        2859    151317         2567   \n",
       "\n",
       "             deg-malig  left  node-caps  \n",
       "breast-quad                              \n",
       "central            255   425         40  \n",
       "left_low           238   348         43  \n",
       "left_top          1194  1837        144  \n",
       "left_up            299   406         51  \n",
       "right_low           51    75         10  \n",
       "right_top           18   321          0  \n",
       "right_up           112   156         31  "
      ]
     },
     "execution_count": 8,
     "metadata": {},
     "output_type": "execute_result"
    }
   ],
   "source": [
    "sales=df.groupby('breast-quad').sum()\n",
    "sales"
   ]
  },
  {
   "cell_type": "code",
   "execution_count": 9,
   "metadata": {},
   "outputs": [
    {
     "data": {
      "text/plain": [
       "array(['left_up', 'central', 'left_low', 'right_up', 'right_low', nan,\n",
       "       'left_top', 'right_top'], dtype=object)"
      ]
     },
     "execution_count": 9,
     "metadata": {},
     "output_type": "execute_result"
    }
   ],
   "source": [
    "df['breast-quad'].unique()"
   ]
  },
  {
   "cell_type": "code",
   "execution_count": 10,
   "metadata": {},
   "outputs": [
    {
     "data": {
      "text/html": [
       "<div>\n",
       "<style scoped>\n",
       "    .dataframe tbody tr th:only-of-type {\n",
       "        vertical-align: middle;\n",
       "    }\n",
       "\n",
       "    .dataframe tbody tr th {\n",
       "        vertical-align: top;\n",
       "    }\n",
       "\n",
       "    .dataframe thead th {\n",
       "        text-align: right;\n",
       "    }\n",
       "</style>\n",
       "<table border=\"1\" class=\"dataframe\">\n",
       "  <thead>\n",
       "    <tr style=\"text-align: right;\">\n",
       "      <th></th>\n",
       "      <th>Risk_Level</th>\n",
       "      <th>last_evaluation</th>\n",
       "      <th>tumor_size</th>\n",
       "      <th>irradiat</th>\n",
       "      <th>tiinv-nodes</th>\n",
       "      <th>deg-malig</th>\n",
       "      <th>left</th>\n",
       "      <th>node-caps</th>\n",
       "    </tr>\n",
       "    <tr>\n",
       "      <th>breast-quad</th>\n",
       "      <th></th>\n",
       "      <th></th>\n",
       "      <th></th>\n",
       "      <th></th>\n",
       "      <th></th>\n",
       "      <th></th>\n",
       "      <th></th>\n",
       "      <th></th>\n",
       "    </tr>\n",
       "  </thead>\n",
       "  <tbody>\n",
       "    <tr>\n",
       "      <th>central</th>\n",
       "      <td>0.623914</td>\n",
       "      <td>0.723091</td>\n",
       "      <td>3.767303</td>\n",
       "      <td>202.423628</td>\n",
       "      <td>3.473150</td>\n",
       "      <td>0.152148</td>\n",
       "      <td>0.253580</td>\n",
       "      <td>0.023866</td>\n",
       "    </tr>\n",
       "    <tr>\n",
       "      <th>left_low</th>\n",
       "      <td>0.611624</td>\n",
       "      <td>0.714085</td>\n",
       "      <td>3.801818</td>\n",
       "      <td>200.283636</td>\n",
       "      <td>3.450303</td>\n",
       "      <td>0.144242</td>\n",
       "      <td>0.210909</td>\n",
       "      <td>0.026061</td>\n",
       "    </tr>\n",
       "    <tr>\n",
       "      <th>left_top</th>\n",
       "      <td>0.616084</td>\n",
       "      <td>0.715312</td>\n",
       "      <td>3.808903</td>\n",
       "      <td>201.064302</td>\n",
       "      <td>3.513572</td>\n",
       "      <td>0.144046</td>\n",
       "      <td>0.221619</td>\n",
       "      <td>0.017372</td>\n",
       "    </tr>\n",
       "    <tr>\n",
       "      <th>left_up</th>\n",
       "      <td>0.612667</td>\n",
       "      <td>0.715818</td>\n",
       "      <td>3.810417</td>\n",
       "      <td>198.763542</td>\n",
       "      <td>3.495312</td>\n",
       "      <td>0.155729</td>\n",
       "      <td>0.211458</td>\n",
       "      <td>0.026562</td>\n",
       "    </tr>\n",
       "    <tr>\n",
       "      <th>right_low</th>\n",
       "      <td>0.630000</td>\n",
       "      <td>0.710500</td>\n",
       "      <td>3.750000</td>\n",
       "      <td>203.891667</td>\n",
       "      <td>3.352778</td>\n",
       "      <td>0.141667</td>\n",
       "      <td>0.208333</td>\n",
       "      <td>0.027778</td>\n",
       "    </tr>\n",
       "    <tr>\n",
       "      <th>right_top</th>\n",
       "      <td>0.434130</td>\n",
       "      <td>0.711681</td>\n",
       "      <td>3.814159</td>\n",
       "      <td>204.731563</td>\n",
       "      <td>3.823009</td>\n",
       "      <td>0.053097</td>\n",
       "      <td>0.946903</td>\n",
       "      <td>0.000000</td>\n",
       "    </tr>\n",
       "    <tr>\n",
       "      <th>right_up</th>\n",
       "      <td>0.627293</td>\n",
       "      <td>0.718227</td>\n",
       "      <td>3.812000</td>\n",
       "      <td>201.756000</td>\n",
       "      <td>3.422667</td>\n",
       "      <td>0.149333</td>\n",
       "      <td>0.208000</td>\n",
       "      <td>0.041333</td>\n",
       "    </tr>\n",
       "  </tbody>\n",
       "</table>\n",
       "</div>"
      ],
      "text/plain": [
       "             Risk_Level  last_evaluation  tumor_size    irradiat  tiinv-nodes  \\\n",
       "breast-quad                                                                     \n",
       "central        0.623914         0.723091    3.767303  202.423628     3.473150   \n",
       "left_low       0.611624         0.714085    3.801818  200.283636     3.450303   \n",
       "left_top       0.616084         0.715312    3.808903  201.064302     3.513572   \n",
       "left_up        0.612667         0.715818    3.810417  198.763542     3.495312   \n",
       "right_low      0.630000         0.710500    3.750000  203.891667     3.352778   \n",
       "right_top      0.434130         0.711681    3.814159  204.731563     3.823009   \n",
       "right_up       0.627293         0.718227    3.812000  201.756000     3.422667   \n",
       "\n",
       "             deg-malig      left  node-caps  \n",
       "breast-quad                                  \n",
       "central       0.152148  0.253580   0.023866  \n",
       "left_low      0.144242  0.210909   0.026061  \n",
       "left_top      0.144046  0.221619   0.017372  \n",
       "left_up       0.155729  0.211458   0.026562  \n",
       "right_low     0.141667  0.208333   0.027778  \n",
       "right_top     0.053097  0.946903   0.000000  \n",
       "right_up      0.149333  0.208000   0.041333  "
      ]
     },
     "execution_count": 10,
     "metadata": {},
     "output_type": "execute_result"
    }
   ],
   "source": [
    "groupby_breast_quad=df.groupby('breast-quad').mean()\n",
    "groupby_breast_quad"
   ]
  },
  {
   "cell_type": "code",
   "execution_count": 22,
   "metadata": {},
   "outputs": [
    {
     "data": {
      "text/plain": [
       "0.43412979351032494"
      ]
     },
     "execution_count": 22,
     "metadata": {},
     "output_type": "execute_result"
    }
   ],
   "source": [
    "central=groupby_breast_quad['Risk_Level'].central\n",
    "left_low=groupby_breast_quad['Risk_Level'].left_low\n",
    "left_top=groupby_breast_quad['Risk_Level'].left_top\n",
    "left_up=groupby_breast_quad['Risk_Level'].left_up\n",
    "right_low=groupby_breast_quad['Risk_Level'].right_low\n",
    "right_up=groupby_breast_quad['Risk_Level'].right_up\n",
    "right_top=groupby_breast_quad['Risk_Level'].right_top\n",
    "right_top"
   ]
  },
  {
   "cell_type": "code",
   "execution_count": 23,
   "metadata": {},
   "outputs": [
    {
     "data": {
      "text/plain": [
       "Text(0.5, 1.0, 'Mean Probability Of Each Quad')"
      ]
     },
     "execution_count": 23,
     "metadata": {},
     "output_type": "execute_result"
    },
    {
     "data": {
      "image/png": "[encoded data removed]",
      "text/plain": [
       "<Figure size 432x288 with 1 Axes>"
      ]
     },
     "metadata": {
      "needs_background": "light"
     },
     "output_type": "display_data"
    }
   ],
   "source": [
    "\n",
    "quad_name=('central', 'left_low', 'left_top', 'left_up', 'right_low', 'right_up','right_top')\n",
    "quad=(central, left_low, left_top, left_up, right_low, right_up, right_top)\n",
    "y_pos = np.arange(len(quad))\n",
    "x=np.arange(0,1,0.1)\n",
    "\n",
    "plt.barh(y_pos, quad, align='center', alpha=0.8)\n",
    "plt.yticks(y_pos,quad_name )\n",
    "plt.xlabel('Risk Level')\n",
    "plt.title('Mean Probability Of Each Quad')"
   ]
  },
  {
   "cell_type": "markdown",
   "metadata": {},
   "source": [
    "# Principal Component Analysis"
   ]
  },
  {
   "cell_type": "code",
   "execution_count": 24,
   "metadata": {},
   "outputs": [
    {
     "data": {
      "text/html": [
       "<div>\n",
       "<style scoped>\n",
       "    .dataframe tbody tr th:only-of-type {\n",
       "        vertical-align: middle;\n",
       "    }\n",
       "\n",
       "    .dataframe tbody tr th {\n",
       "        vertical-align: top;\n",
       "    }\n",
       "\n",
       "    .dataframe thead th {\n",
       "        text-align: right;\n",
       "    }\n",
       "</style>\n",
       "<table border=\"1\" class=\"dataframe\">\n",
       "  <thead>\n",
       "    <tr style=\"text-align: right;\">\n",
       "      <th></th>\n",
       "      <th>Risk_Level</th>\n",
       "      <th>last_evaluation</th>\n",
       "      <th>tumor_size</th>\n",
       "      <th>irradiat</th>\n",
       "      <th>tiinv-nodes</th>\n",
       "      <th>deg-malig</th>\n",
       "      <th>left</th>\n",
       "      <th>node-caps</th>\n",
       "      <th>breast-quad</th>\n",
       "      <th>state</th>\n",
       "    </tr>\n",
       "  </thead>\n",
       "  <tbody>\n",
       "    <tr>\n",
       "      <th>0</th>\n",
       "      <td>0.38</td>\n",
       "      <td>0.53</td>\n",
       "      <td>2</td>\n",
       "      <td>157</td>\n",
       "      <td>3</td>\n",
       "      <td>0</td>\n",
       "      <td>1</td>\n",
       "      <td>0</td>\n",
       "      <td>left_up</td>\n",
       "      <td>low</td>\n",
       "    </tr>\n",
       "    <tr>\n",
       "      <th>1</th>\n",
       "      <td>0.80</td>\n",
       "      <td>0.86</td>\n",
       "      <td>5</td>\n",
       "      <td>262</td>\n",
       "      <td>6</td>\n",
       "      <td>0</td>\n",
       "      <td>1</td>\n",
       "      <td>0</td>\n",
       "      <td>central</td>\n",
       "      <td>medium</td>\n",
       "    </tr>\n",
       "    <tr>\n",
       "      <th>2</th>\n",
       "      <td>0.11</td>\n",
       "      <td>0.88</td>\n",
       "      <td>7</td>\n",
       "      <td>272</td>\n",
       "      <td>4</td>\n",
       "      <td>0</td>\n",
       "      <td>1</td>\n",
       "      <td>0</td>\n",
       "      <td>left_low</td>\n",
       "      <td>medium</td>\n",
       "    </tr>\n",
       "    <tr>\n",
       "      <th>3</th>\n",
       "      <td>0.72</td>\n",
       "      <td>0.87</td>\n",
       "      <td>5</td>\n",
       "      <td>223</td>\n",
       "      <td>5</td>\n",
       "      <td>0</td>\n",
       "      <td>1</td>\n",
       "      <td>0</td>\n",
       "      <td>left_low</td>\n",
       "      <td>low</td>\n",
       "    </tr>\n",
       "    <tr>\n",
       "      <th>4</th>\n",
       "      <td>0.37</td>\n",
       "      <td>0.52</td>\n",
       "      <td>2</td>\n",
       "      <td>159</td>\n",
       "      <td>3</td>\n",
       "      <td>0</td>\n",
       "      <td>1</td>\n",
       "      <td>0</td>\n",
       "      <td>right_up</td>\n",
       "      <td>low</td>\n",
       "    </tr>\n",
       "  </tbody>\n",
       "</table>\n",
       "</div>"
      ],
      "text/plain": [
       "   Risk_Level  last_evaluation  tumor_size  irradiat  tiinv-nodes  deg-malig  \\\n",
       "0        0.38             0.53           2       157            3          0   \n",
       "1        0.80             0.86           5       262            6          0   \n",
       "2        0.11             0.88           7       272            4          0   \n",
       "3        0.72             0.87           5       223            5          0   \n",
       "4        0.37             0.52           2       159            3          0   \n",
       "\n",
       "   left  node-caps breast-quad   state  \n",
       "0     1          0     left_up     low  \n",
       "1     1          0     central  medium  \n",
       "2     1          0    left_low  medium  \n",
       "3     1          0    left_low     low  \n",
       "4     1          0    right_up     low  "
      ]
     },
     "execution_count": 24,
     "metadata": {},
     "output_type": "execute_result"
    }
   ],
   "source": [
    "df.head()"
   ]
  },
  {
   "cell_type": "code",
   "execution_count": 35,
   "metadata": {},
   "outputs": [
    {
     "data": {
      "text/html": [
       "<div>\n",
       "<style scoped>\n",
       "    .dataframe tbody tr th:only-of-type {\n",
       "        vertical-align: middle;\n",
       "    }\n",
       "\n",
       "    .dataframe tbody tr th {\n",
       "        vertical-align: top;\n",
       "    }\n",
       "\n",
       "    .dataframe thead th {\n",
       "        text-align: right;\n",
       "    }\n",
       "</style>\n",
       "<table border=\"1\" class=\"dataframe\">\n",
       "  <thead>\n",
       "    <tr style=\"text-align: right;\">\n",
       "      <th></th>\n",
       "      <th>Risk_Level</th>\n",
       "      <th>last_evaluation</th>\n",
       "      <th>tumor_size</th>\n",
       "      <th>irradiat</th>\n",
       "      <th>tiinv-nodes</th>\n",
       "      <th>deg-malig</th>\n",
       "      <th>left</th>\n",
       "      <th>node-caps</th>\n",
       "    </tr>\n",
       "  </thead>\n",
       "  <tbody>\n",
       "    <tr>\n",
       "      <th>0</th>\n",
       "      <td>0.38</td>\n",
       "      <td>0.53</td>\n",
       "      <td>2</td>\n",
       "      <td>157</td>\n",
       "      <td>3</td>\n",
       "      <td>0</td>\n",
       "      <td>1</td>\n",
       "      <td>0</td>\n",
       "    </tr>\n",
       "    <tr>\n",
       "      <th>1</th>\n",
       "      <td>0.80</td>\n",
       "      <td>0.86</td>\n",
       "      <td>5</td>\n",
       "      <td>262</td>\n",
       "      <td>6</td>\n",
       "      <td>0</td>\n",
       "      <td>1</td>\n",
       "      <td>0</td>\n",
       "    </tr>\n",
       "    <tr>\n",
       "      <th>2</th>\n",
       "      <td>0.11</td>\n",
       "      <td>0.88</td>\n",
       "      <td>7</td>\n",
       "      <td>272</td>\n",
       "      <td>4</td>\n",
       "      <td>0</td>\n",
       "      <td>1</td>\n",
       "      <td>0</td>\n",
       "    </tr>\n",
       "    <tr>\n",
       "      <th>3</th>\n",
       "      <td>0.72</td>\n",
       "      <td>0.87</td>\n",
       "      <td>5</td>\n",
       "      <td>223</td>\n",
       "      <td>5</td>\n",
       "      <td>0</td>\n",
       "      <td>1</td>\n",
       "      <td>0</td>\n",
       "    </tr>\n",
       "    <tr>\n",
       "      <th>4</th>\n",
       "      <td>0.37</td>\n",
       "      <td>0.52</td>\n",
       "      <td>2</td>\n",
       "      <td>159</td>\n",
       "      <td>3</td>\n",
       "      <td>0</td>\n",
       "      <td>1</td>\n",
       "      <td>0</td>\n",
       "    </tr>\n",
       "  </tbody>\n",
       "</table>\n",
       "</div>"
      ],
      "text/plain": [
       "   Risk_Level  last_evaluation  tumor_size  irradiat  tiinv-nodes  deg-malig  \\\n",
       "0        0.38             0.53           2       157            3          0   \n",
       "1        0.80             0.86           5       262            6          0   \n",
       "2        0.11             0.88           7       272            4          0   \n",
       "3        0.72             0.87           5       223            5          0   \n",
       "4        0.37             0.52           2       159            3          0   \n",
       "\n",
       "   left  node-caps  \n",
       "0     1          0  \n",
       "1     1          0  \n",
       "2     1          0  \n",
       "3     1          0  \n",
       "4     1          0  "
      ]
     },
     "execution_count": 35,
     "metadata": {},
     "output_type": "execute_result"
    }
   ],
   "source": [
    "df_drop=df.drop(labels=['breast-quad','state'],axis=1)\n",
    "df_drop.head()"
   ]
  },
  {
   "cell_type": "markdown",
   "metadata": {},
   "source": [
    "**df.drop()**  is the method to drop the columns in our dataframe"
   ]
  },
  {
   "cell_type": "markdown",
   "metadata": {},
   "source": [
    "Now we need to bring \"left\" column to the front as it is the label and not the feature."
   ]
  },
  {
   "cell_type": "code",
   "execution_count": 36,
   "metadata": {},
   "outputs": [
    {
     "data": {
      "text/plain": [
       "['Risk_Level',\n",
       " 'last_evaluation',\n",
       " 'tumor_size',\n",
       " 'irradiat',\n",
       " 'tiinv-nodes',\n",
       " 'deg-malig',\n",
       " 'left',\n",
       " 'node-caps']"
      ]
     },
     "execution_count": 36,
     "metadata": {},
     "output_type": "execute_result"
    }
   ],
   "source": [
    "cols = df_drop.columns.tolist()\n",
    "cols"
   ]
  },
  {
   "cell_type": "markdown",
   "metadata": {},
   "source": [
    "Here we are converting columns of the dataframe to list so it would be easier for us to reshuffle the columns.We are going to use cols.insert method"
   ]
  },
  {
   "cell_type": "code",
   "execution_count": 37,
   "metadata": {},
   "outputs": [],
   "source": [
    "cols.insert(0, cols.pop(cols.index('left')))"
   ]
  },
  {
   "cell_type": "code",
   "execution_count": 38,
   "metadata": {},
   "outputs": [
    {
     "data": {
      "text/plain": [
       "['left',\n",
       " 'Risk_Level',\n",
       " 'last_evaluation',\n",
       " 'tumor_size',\n",
       " 'irradiat',\n",
       " 'tiinv-nodes',\n",
       " 'deg-malig',\n",
       " 'node-caps']"
      ]
     },
     "execution_count": 38,
     "metadata": {},
     "output_type": "execute_result"
    }
   ],
   "source": [
    "cols"
   ]
  },
  {
   "cell_type": "code",
   "execution_count": 39,
   "metadata": {},
   "outputs": [],
   "source": [
    "df_drop = df_drop.reindex(columns= cols)"
   ]
  },
  {
   "cell_type": "markdown",
   "metadata": {},
   "source": [
    "By using df_drop.reindex(columns= cols) we are converting list to columns again"
   ]
  },
  {
   "cell_type": "markdown",
   "metadata": {},
   "source": [
    "Now we are separating features of our dataframe from the labels."
   ]
  },
  {
   "cell_type": "code",
   "execution_count": 40,
   "metadata": {},
   "outputs": [
    {
     "data": {
      "text/plain": [
       "array([[0.38, 0.53, 2.  , ..., 3.  , 0.  , 0.  ],\n",
       "       [0.8 , 0.86, 5.  , ..., 6.  , 0.  , 0.  ],\n",
       "       [0.11, 0.88, 7.  , ..., 4.  , 0.  , 0.  ],\n",
       "       ...,\n",
       "       [0.37, 0.53, 2.  , ..., 3.  , 0.  , 0.  ],\n",
       "       [0.11, 0.96, 6.  , ..., 4.  , 0.  , 0.  ],\n",
       "       [0.37, 0.52, 2.  , ..., 3.  , 0.  , 0.  ]])"
      ]
     },
     "execution_count": 40,
     "metadata": {},
     "output_type": "execute_result"
    }
   ],
   "source": [
    "X = df_drop.iloc[:,1:8].values\n",
    "y = df_drop.iloc[:,0].values\n",
    "X"
   ]
  },
  {
   "cell_type": "code",
   "execution_count": 41,
   "metadata": {},
   "outputs": [
    {
     "data": {
      "text/plain": [
       "array([1, 1, 1, ..., 1, 1, 1], dtype=int64)"
      ]
     },
     "execution_count": 41,
     "metadata": {},
     "output_type": "execute_result"
    }
   ],
   "source": [
    "y"
   ]
  },
  {
   "cell_type": "code",
   "execution_count": 42,
   "metadata": {},
   "outputs": [
    {
     "data": {
      "text/plain": [
       "(14999, 7)"
      ]
     },
     "execution_count": 42,
     "metadata": {},
     "output_type": "execute_result"
    }
   ],
   "source": [
    "np.shape(X)"
   ]
  },
  {
   "cell_type": "markdown",
   "metadata": {},
   "source": [
    "Thus X is now matrix with 14999 rows and 7 columns"
   ]
  },
  {
   "cell_type": "code",
   "execution_count": 43,
   "metadata": {},
   "outputs": [
    {
     "data": {
      "text/plain": [
       "(14999,)"
      ]
     },
     "execution_count": 43,
     "metadata": {},
     "output_type": "execute_result"
    }
   ],
   "source": [
    "np.shape(y)"
   ]
  },
  {
   "cell_type": "markdown",
   "metadata": {},
   "source": [
    "y is now matrix with 14999 rows and 1 column"
   ]
  },
  {
   "cell_type": "markdown",
   "metadata": {},
   "source": [
    "# 4) Data Standardisation\n",
    "Standardization refers to shifting the distribution of each attribute to have a mean of zero and a standard deviation of one (unit variance). It is useful to standardize attributes for a model.\n",
    "Standardization of datasets is a common requirement for many machine learning estimators implemented in scikit-learn; they might behave badly if the individual features do not more or less look like standard normally distributed data "
   ]
  },
  {
   "cell_type": "code",
   "execution_count": 44,
   "metadata": {},
   "outputs": [],
   "source": [
    "from sklearn.preprocessing import StandardScaler\n",
    "X_std = StandardScaler().fit_transform(X)"
   ]
  },
  {
   "cell_type": "markdown",
   "metadata": {},
   "source": [
    "# 5) Computing Eigenvectors and Eigenvalues:\n",
    "Before computing Eigen vectors and values we need to calculate covariance matrix."
   ]
  },
  {
   "cell_type": "markdown",
   "metadata": {},
   "source": [
    "## Covariance matrix"
   ]
  },
  {
   "cell_type": "code",
   "execution_count": 45,
   "metadata": {},
   "outputs": [
    {
     "name": "stdout",
     "output_type": "stream",
     "text": [
      "Covariance matrix \n",
      "[[ 1.00006668  0.10502822 -0.14297912 -0.02004945 -0.1008728   0.05870115\n",
      "   0.02560689]\n",
      " [ 0.10502822  1.00006668  0.34935588  0.33976445  0.1315995  -0.00710476\n",
      "  -0.00868435]\n",
      " [-0.14297912  0.34935588  1.00006668  0.41723845  0.19679901 -0.00474086\n",
      "  -0.00606436]\n",
      " [-0.02004945  0.33976445  0.41723845  1.00006668  0.12776343 -0.01014356\n",
      "  -0.00354465]\n",
      " [-0.1008728   0.1315995   0.19679901  0.12776343  1.00006668  0.00212056\n",
      "   0.06743742]\n",
      " [ 0.05870115 -0.00710476 -0.00474086 -0.01014356  0.00212056  1.00006668\n",
      "   0.03924805]\n",
      " [ 0.02560689 -0.00868435 -0.00606436 -0.00354465  0.06743742  0.03924805\n",
      "   1.00006668]]\n"
     ]
    }
   ],
   "source": [
    "mean_vec = np.mean(X_std, axis=0)\n",
    "cov_mat = (X_std - mean_vec).T.dot((X_std - mean_vec)) / (X_std.shape[0]-1)\n",
    "print('Covariance matrix \\n%s' %cov_mat)"
   ]
  },
  {
   "cell_type": "code",
   "execution_count": 46,
   "metadata": {},
   "outputs": [
    {
     "name": "stdout",
     "output_type": "stream",
     "text": [
      "NumPy covariance matrix: \n",
      "[[ 1.00006668  0.10502822 -0.14297912 -0.02004945 -0.1008728   0.05870115\n",
      "   0.02560689]\n",
      " [ 0.10502822  1.00006668  0.34935588  0.33976445  0.1315995  -0.00710476\n",
      "  -0.00868435]\n",
      " [-0.14297912  0.34935588  1.00006668  0.41723845  0.19679901 -0.00474086\n",
      "  -0.00606436]\n",
      " [-0.02004945  0.33976445  0.41723845  1.00006668  0.12776343 -0.01014356\n",
      "  -0.00354465]\n",
      " [-0.1008728   0.1315995   0.19679901  0.12776343  1.00006668  0.00212056\n",
      "   0.06743742]\n",
      " [ 0.05870115 -0.00710476 -0.00474086 -0.01014356  0.00212056  1.00006668\n",
      "   0.03924805]\n",
      " [ 0.02560689 -0.00868435 -0.00606436 -0.00354465  0.06743742  0.03924805\n",
      "   1.00006668]]\n"
     ]
    }
   ],
   "source": [
    "print('NumPy covariance matrix: \\n%s' %np.cov(X_std.T))"
   ]
  },
  {
   "cell_type": "markdown",
   "metadata": {},
   "source": [
    "Equivalently we could have used Numpy np.cov to calculate covariance matrix"
   ]
  },
  {
   "cell_type": "code",
   "execution_count": 47,
   "metadata": {},
   "outputs": [
    {
     "data": {
      "text/plain": [
       "Text(0.5, 1.0, 'Correlation between different features')"
      ]
     },
     "execution_count": 47,
     "metadata": {},
     "output_type": "execute_result"
    },
    {
     "data": {
      "image/png": "[encoded data removed]",
      "text/plain": [
       "<Figure size 576x576 with 2 Axes>"
      ]
     },
     "metadata": {
      "needs_background": "light"
     },
     "output_type": "display_data"
    }
   ],
   "source": [
    "plt.figure(figsize=(8,8))\n",
    "sns.heatmap(cov_mat, vmax=1, square=True,annot=True,cmap='cubehelix')\n",
    "\n",
    "plt.title('Correlation between different features')"
   ]
  },
  {
   "cell_type": "markdown",
   "metadata": {},
   "source": [
    "# Eigen decomposition of the covariance matrix"
   ]
  },
  {
   "cell_type": "code",
   "execution_count": 48,
   "metadata": {},
   "outputs": [
    {
     "name": "stdout",
     "output_type": "stream",
     "text": [
      "Eigenvectors \n",
      "[[ 0.08797699  0.29189921  0.27784886  0.33637135  0.79752505  0.26786864\n",
      "  -0.09438973]\n",
      " [-0.50695734 -0.30996609 -0.70780994  0.07393548  0.33180877  0.1101505\n",
      "  -0.13499526]\n",
      " [-0.5788351   0.77736008 -0.00657105 -0.19677589 -0.10338032 -0.10336241\n",
      "  -0.02293518]\n",
      " [-0.54901653 -0.45787675  0.63497294 -0.25170987  0.10388959 -0.01034922\n",
      "  -0.10714981]\n",
      " [-0.31354922 -0.05287224  0.12200054  0.78782241 -0.28404472  0.04036861\n",
      "   0.42547869]\n",
      " [ 0.01930249 -0.04433104 -0.03622859 -0.05762997  0.37489883 -0.8048393\n",
      "   0.45245222]\n",
      " [-0.00996933 -0.00391698 -0.04873036 -0.39411153  0.10557298  0.50589173\n",
      "   0.75836313]]\n",
      "\n",
      "Eigenvalues \n",
      "[1.83017431 0.54823098 0.63363587 0.84548166 1.12659606 0.95598647\n",
      " 1.06036136]\n"
     ]
    }
   ],
   "source": [
    "eig_vals, eig_vecs = np.linalg.eig(cov_mat)\n",
    "\n",
    "print('Eigenvectors \\n%s' %eig_vecs)\n",
    "print('\\nEigenvalues \\n%s' %eig_vals)"
   ]
  },
  {
   "cell_type": "code",
   "execution_count": 49,
   "metadata": {},
   "outputs": [],
   "source": [
    "# 6) Selecting Principal Components¶"
   ]
  },
  {
   "cell_type": "markdown",
   "metadata": {},
   "source": [
    "# 6) Selecting Principal Components\n",
    "\n",
    "T\n",
    "In order to decide which eigenvector(s) can dropped without losing too much information for the construction of lower-dimensional subspace, we need to inspect the corresponding eigenvalues: The eigenvectors with the lowest eigenvalues bear the least information about the distribution of the data; those are the ones can be dropped."
   ]
  },
  {
   "cell_type": "code",
   "execution_count": 50,
   "metadata": {},
   "outputs": [
    {
     "name": "stdout",
     "output_type": "stream",
     "text": [
      "Eigenvalues in descending order:\n",
      "1.8301743138755018\n",
      "1.1265960639915469\n",
      "1.0603613622840835\n",
      "0.9559864740066254\n",
      "0.8454816637143466\n",
      "0.6336358744830216\n",
      "0.5482309765420615\n"
     ]
    }
   ],
   "source": [
    "# Make a list of (eigenvalue, eigenvector) tuples\n",
    "eig_pairs = [(np.abs(eig_vals[i]), eig_vecs[:,i]) for i in range(len(eig_vals))]\n",
    "\n",
    "# Sort the (eigenvalue, eigenvector) tuples from high to low\n",
    "eig_pairs.sort(key=lambda x: x[0], reverse=True)\n",
    "\n",
    "# Visually confirm that the list is correctly sorted by decreasing eigenvalues\n",
    "print('Eigenvalues in descending order:')\n",
    "for i in eig_pairs:\n",
    "    print(i[0])"
   ]
  },
  {
   "cell_type": "markdown",
   "metadata": {},
   "source": [
    "**Explained Variance**\n",
    "After sorting the eigenpairs, the next question is \"how many principal components are we going to choose for our new feature subspace?\" A useful measure is the so-called \"explained variance,\" which can be calculated from the eigenvalues. The explained variance tells us how much information (variance) can be attributed to each of the principal components."
   ]
  },
  {
   "cell_type": "code",
   "execution_count": 51,
   "metadata": {},
   "outputs": [],
   "source": [
    "tot = sum(eig_vals)\n",
    "var_exp = [(i / tot)*100 for i in sorted(eig_vals, reverse=True)]"
   ]
  },
  {
   "cell_type": "code",
   "execution_count": 52,
   "metadata": {},
   "outputs": [
    {
     "data": {
      "image/png": "[encoded data removed]",
      "text/plain": [
       "<Figure size 432x288 with 1 Axes>"
      ]
     },
     "metadata": {},
     "output_type": "display_data"
    }
   ],
   "source": [
    "with plt.style.context('dark_background'):\n",
    "    plt.figure(figsize=(6, 4))\n",
    "\n",
    "    plt.bar(range(7), var_exp, alpha=0.5, align='center',\n",
    "            label='individual explained variance')\n",
    "    plt.ylabel('Explained variance ratio')\n",
    "    plt.xlabel('Principal components')\n",
    "    plt.legend(loc='best')\n",
    "    plt.tight_layout()"
   ]
  },
  {
   "cell_type": "markdown",
   "metadata": {},
   "source": [
    "The plot above clearly shows that maximum variance (somewhere around 26%) can be explained by the first principal component alone. The second,third,fourth and fifth principal component share almost equal amount of information.Comparatively 6th and 7th components share less amount of information as compared to the rest of the Principal components.But those information cannot be ignored since they both contribute almost 17% of the data.But we can drop the last component as it has less than 10% of the variance"
   ]
  },
  {
   "cell_type": "markdown",
   "metadata": {},
   "source": [
    "**Projection Matrix**"
   ]
  },
  {
   "cell_type": "markdown",
   "metadata": {},
   "source": [
    "The construction of the projection matrix that will be used to transform the Risk Level analytics data onto the new feature subspace. Suppose only 1st and 2nd principal component shares the maximum amount of information say around 90%.Hence we can drop other components. Here, we are reducing the 7-dimensional feature space to a 2-dimensional feature subspace, by choosing the “top 2” eigenvectors with the highest eigenvalues to construct our d×k-dimensional eigenvector matrix W"
   ]
  },
  {
   "cell_type": "code",
   "execution_count": 53,
   "metadata": {},
   "outputs": [
    {
     "name": "stdout",
     "output_type": "stream",
     "text": [
      "Matrix W:\n",
      " [[ 0.08797699  0.79752505]\n",
      " [-0.50695734  0.33180877]\n",
      " [-0.5788351  -0.10338032]\n",
      " [-0.54901653  0.10388959]\n",
      " [-0.31354922 -0.28404472]\n",
      " [ 0.01930249  0.37489883]\n",
      " [-0.00996933  0.10557298]]\n"
     ]
    }
   ],
   "source": [
    "matrix_w = np.hstack((eig_pairs[0][1].reshape(7,1), \n",
    "                      eig_pairs[1][1].reshape(7,1)\n",
    "                    ))\n",
    "print('Matrix W:\\n', matrix_w)"
   ]
  },
  {
   "cell_type": "markdown",
   "metadata": {},
   "source": [
    "**Projection Onto the New Feature Space**\n",
    "In this last step we will use the 7×2-dimensional projection matrix W to transform our samples onto the new subspace via the equation\n",
    "**Y=X×W**"
   ]
  },
  {
   "cell_type": "code",
   "execution_count": 54,
   "metadata": {},
   "outputs": [
    {
     "data": {
      "text/plain": [
       "array([[ 1.90035018, -1.12083103],\n",
       "       [-2.1358322 ,  0.2493369 ],\n",
       "       [-3.05891625, -1.68312693],\n",
       "       ...,\n",
       "       [ 2.0507165 , -1.182032  ],\n",
       "       [-2.91418496, -1.42752606],\n",
       "       [ 1.91543672, -1.17021407]])"
      ]
     },
     "execution_count": 54,
     "metadata": {},
     "output_type": "execute_result"
    }
   ],
   "source": [
    "Y = X_std.dot(matrix_w)\n",
    "Y"
   ]
  },
  {
   "cell_type": "markdown",
   "metadata": {},
   "source": [
    "# PCA in scikit-learn"
   ]
  },
  {
   "cell_type": "code",
   "execution_count": 55,
   "metadata": {},
   "outputs": [
    {
     "data": {
      "text/plain": [
       "Text(0, 0.5, 'Cumulative explained variance')"
      ]
     },
     "execution_count": 55,
     "metadata": {},
     "output_type": "execute_result"
    },
    {
     "data": {
      "image/png": "[encoded data removed]",
      "text/plain": [
       "<Figure size 432x288 with 1 Axes>"
      ]
     },
     "metadata": {
      "needs_background": "light"
     },
     "output_type": "display_data"
    }
   ],
   "source": [
    "from sklearn.decomposition import PCA\n",
    "pca = PCA().fit(X_std)\n",
    "plt.plot(np.cumsum(pca.explained_variance_ratio_))\n",
    "plt.xlim(0,7,1)\n",
    "plt.xlabel('Number of components')\n",
    "plt.ylabel('Cumulative explained variance')"
   ]
  },
  {
   "cell_type": "markdown",
   "metadata": {},
   "source": [
    "The above plot shows almost 90% variance by the first 6 components. Therfore we can drop 7th component."
   ]
  },
  {
   "cell_type": "code",
   "execution_count": 56,
   "metadata": {},
   "outputs": [],
   "source": [
    "from sklearn.decomposition import PCA \n",
    "sklearn_pca = PCA(n_components=6)\n",
    "Y_sklearn = sklearn_pca.fit_transform(X_std)"
   ]
  },
  {
   "cell_type": "code",
   "execution_count": 57,
   "metadata": {},
   "outputs": [
    {
     "name": "stdout",
     "output_type": "stream",
     "text": [
      "[[-1.90035018 -1.12083103 -0.0797787   0.03228437 -0.07256447  0.06063013]\n",
      " [ 2.1358322   0.2493369   0.0936161   0.50676925  1.2487747  -0.61378158]\n",
      " [ 3.05891625 -1.68312693 -0.301682   -0.4488635  -1.12495888  0.29066929]\n",
      " ...\n",
      " [-2.0507165  -1.182032   -0.04594506  0.02441143 -0.01553247  0.24980658]\n",
      " [ 2.91418496 -1.42752606 -0.36333357 -0.31517759 -0.97107375  0.51444624]\n",
      " [-1.91543672 -1.17021407 -0.07024077  0.01486762 -0.09545357  0.01773844]]\n"
     ]
    }
   ],
   "source": [
    "print(Y_sklearn)"
   ]
  },
  {
   "cell_type": "code",
   "execution_count": 58,
   "metadata": {},
   "outputs": [
    {
     "data": {
      "text/plain": [
       "(14999, 6)"
      ]
     },
     "execution_count": 58,
     "metadata": {},
     "output_type": "execute_result"
    }
   ],
   "source": [
    "Y_sklearn.shape"
   ]
  },
  {
   "cell_type": "markdown",
   "metadata": {},
   "source": [
    "Thus Principal Component Analysis is used to remove the redundant features from the datasets without losing much information.These features are low dimensional in nature.The first component has the highest variance followed by second, third and so on.PCA works best on data set having 3 or higher dimensions. Because, with higher dimensions, it becomes increasingly difficult to make interpretations from the resultant cloud of data."
   ]
  }
 ],
 "metadata": {
  "kernelspec": {
   "display_name": "Python 3",
   "language": "python",
   "name": "python3"
  },
  "language_info": {
   "codemirror_mode": {
    "name": "ipython",
    "version": 3
   },
   "file_extension": ".py",
   "mimetype": "text/x-python",
   "name": "python",
   "nbconvert_exporter": "python",
   "pygments_lexer": "ipython3",
   "version": "3.8.5"
  }
 },
 "nbformat": 4,
 "nbformat_minor": 1
}
